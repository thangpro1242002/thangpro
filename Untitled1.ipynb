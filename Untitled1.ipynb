{
  "nbformat": 4,
  "nbformat_minor": 0,
  "metadata": {
    "colab": {
      "name": "Untitled1.ipynb",
      "provenance": [],
      "authorship_tag": "ABX9TyO0D+gAt+iC8ETBLmOukV2O",
      "include_colab_link": true
    },
    "kernelspec": {
      "name": "python3",
      "display_name": "Python 3"
    }
  },
  "cells": [
    {
      "cell_type": "markdown",
      "metadata": {
        "id": "view-in-github",
        "colab_type": "text"
      },
      "source": [
        "<a href=\"https://colab.research.google.com/github/thangpro1242002/thangpro/blob/main/Untitled1.ipynb\" target=\"_parent\"><img src=\"https://colab.research.google.com/assets/colab-badge.svg\" alt=\"Open In Colab\"/></a>"
      ]
    },
    {
      "cell_type": "code",
      "metadata": {
        "id": "Hm8-AlxUzalR",
        "outputId": "592a7d82-a32e-4758-b181-82fe63a486bb",
        "colab": {
          "base_uri": "https://localhost:8080/"
        }
      },
      "source": [
        "# Tạo một biến x Kiểu list rỗng\n",
        "x=[]\n",
        "# Thêm 18 vào x\n",
        "x.append(18)\n",
        "# Thêm 'Huế' vào x\n",
        "x.append(\"Huế\")\n",
        "# Tạo list y với các giá trị tương ứng\n",
        "y=[12,45,-1,-0.56,\"abc\"]\n",
        "# Thêm y vào x\n",
        "x=x+y\n",
        "# Xuất giá trị của x ra màn hình\n",
        "print(x)\n",
        "# In ra màn hình giá trị của phần tử cuối cùng và phần tử đầu tiên của x\n",
        "print('phần tử cuối cùng của x',x[-1])\n",
        "print('phần tử đầu tiên của x',x[0])\n",
        "# In các giá trị của phần tử đầu tiên đến phần tử thứ 5 của x\n",
        "print(x[0:5])\n",
        "# In các giá trị của phần tử thứ 3 đến phần tử cuối cùng của x\n",
        "print(x[2:len(x)])"
      ],
      "execution_count": 1,
      "outputs": [
        {
          "output_type": "stream",
          "text": [
            "[18, 'Huế', 12, 45, -1, -0.56, 'abc']\n",
            "phần tử cuối cùng của x abc\n",
            "phần tử đầu tiên của x 18\n",
            "[18, 'Huế', 12, 45, -1]\n",
            "[12, 45, -1, -0.56, 'abc']\n"
          ],
          "name": "stdout"
        }
      ]
    }
  ]
}