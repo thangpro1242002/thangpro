{
  "nbformat": 4,
  "nbformat_minor": 0,
  "metadata": {
    "kernelspec": {
      "display_name": "Python 3",
      "language": "python",
      "name": "python3"
    },
    "language_info": {
      "codemirror_mode": {
        "name": "ipython",
        "version": 3
      },
      "file_extension": ".py",
      "mimetype": "text/x-python",
      "name": "python",
      "nbconvert_exporter": "python",
      "pygments_lexer": "ipython3",
      "version": "3.7.3"
    },
    "colab": {
      "name": "bai-tap-sinh-mau-ngau-nhien.ipynb",
      "provenance": [],
      "include_colab_link": true
    }
  },
  "cells": [
    {
      "cell_type": "markdown",
      "metadata": {
        "id": "view-in-github",
        "colab_type": "text"
      },
      "source": [
        "<a href=\"https://colab.research.google.com/github/thangpro1242002/thangpro/blob/main/bai_tap_sinh_mau_ngau_nhien.ipynb\" target=\"_parent\"><img src=\"https://colab.research.google.com/assets/colab-badge.svg\" alt=\"Open In Colab\"/></a>"
      ]
    },
    {
      "cell_type": "code",
      "metadata": {
        "id": "xp-R3tWxVcTp"
      },
      "source": [
        "import numpy as np\n"
      ],
      "execution_count": 13,
      "outputs": []
    },
    {
      "cell_type": "markdown",
      "metadata": {
        "id": "wCtgvKVDVcTk"
      },
      "source": [
        "Sử dụng thư viện Numpy\n",
        "\n",
        "1. Sinh mẫu ngẫu nhiên bằng hàm arange trong khoảng [-15, 27] với khoảng cách là 0.7 và in kết quả ra màn hình"
      ]
    },
    {
      "cell_type": "markdown",
      "metadata": {
        "id": "iAZuiIJ0W3Nm"
      },
      "source": [
        ""
      ]
    },
    {
      "cell_type": "code",
      "metadata": {
        "id": "7bnuutkWWvGY",
        "outputId": "e6675cc6-9037-4388-ee15-2db679d6f55b",
        "colab": {
          "base_uri": "https://localhost:8080/"
        }
      },
      "source": [
        "\n",
        "a = np.arange(-15, 27, 0.7)\n",
        "samples_1 = np.random.choice(a, 100)\n",
        "print(samples_1)"
      ],
      "execution_count": 10,
      "outputs": [
        {
          "output_type": "stream",
          "text": [
            "[-13.6   4.6 -11.5  10.2  19.3  -1.7  18.6 -13.6  17.2   5.3  17.2   3.9\n",
            "  19.3  -7.3  -8.7  -7.3  15.1  -4.5   7.4   6.7  10.9   1.8 -13.6  14.4\n",
            "  20.7 -13.6   9.5   6.   -6.6  -6.6  -3.8  -7.3  -8.   -4.5  -1.7 -13.6\n",
            "   6.7  -1.7  -5.2  -9.4  19.3   7.4  17.9   5.3 -12.9  -8.7 -15.  -10.1\n",
            "   8.8   9.5  -9.4   6.   13.7   7.4  -1.7  13.  -14.3  18.6  20.   -3.8\n",
            " -12.9  22.1  15.8   6.   -6.6   3.2  -6.6  14.4  18.6  16.5  -9.4  22.1\n",
            "  27.   -1.   20.  -13.6  -4.5  17.9  20.7   0.4  23.5   0.4  24.2  23.5\n",
            "   4.6  24.2   8.1  10.2  13.   15.1  -3.8  15.8  14.4  17.9  13.7   6.\n",
            "  -7.3   3.9  10.2   3.9]\n"
          ],
          "name": "stdout"
        }
      ]
    },
    {
      "cell_type": "markdown",
      "metadata": {
        "id": "iUY0LiiUVcTp"
      },
      "source": [
        "2. Sinh mẫu ngẫu nhiên theo phân phối chuẩn với mean = 2.7 std = 1.2 và size = 40\n",
        "In kết quả ra màn hình"
      ]
    },
    {
      "cell_type": "code",
      "metadata": {
        "id": "CPjw0__OVcTq",
        "outputId": "4d0f9c8e-339b-4982-e82b-ceee6ef318df",
        "colab": {
          "base_uri": "https://localhost:8080/"
        }
      },
      "source": [
        "mean = 2.7\n",
        "std = 1.2\n",
        "size = 40\n",
        "samples = np.random.normal(mean, std, size)\n",
        "samples"
      ],
      "execution_count": 11,
      "outputs": [
        {
          "output_type": "execute_result",
          "data": {
            "text/plain": [
              "array([2.48710109, 3.34203255, 1.50350626, 3.66993323, 4.33102396,\n",
              "       2.08519413, 1.98951589, 6.00044793, 1.61921304, 4.88640358,\n",
              "       2.33921929, 1.24200882, 1.6721989 , 1.88344895, 2.5834332 ,\n",
              "       3.48485669, 5.58604684, 3.19527533, 2.56955789, 4.2072428 ,\n",
              "       2.19572046, 2.815804  , 3.13924112, 1.88035566, 2.31980207,\n",
              "       1.54764229, 3.4739454 , 3.65258695, 2.52899997, 3.50372975,\n",
              "       1.5132312 , 2.57963838, 4.11437546, 2.31141099, 2.75886693,\n",
              "       3.87860654, 4.01402875, 2.48183075, 4.02435747, 3.01589073])"
            ]
          },
          "metadata": {
            "tags": []
          },
          "execution_count": 11
        }
      ]
    },
    {
      "cell_type": "markdown",
      "metadata": {
        "id": "eWS0Kb_vVcTq"
      },
      "source": [
        "3. Sinh mẫu ngẫu nhiên từ vector ['Viet Nam', 'Britain', 'France', 'Russia', 'Singapore'] \n",
        "\n",
        "với kích thước là 17 theo phân phối chuẩn"
      ]
    },
    {
      "cell_type": "code",
      "metadata": {
        "id": "umQN6oy1VcTq"
      },
      "source": [
        "#SInh ngẫu nhiên chuỗi giá trị sau ['Viet Nam', 'Britain', 'France', 'Russia', 'Singapore'] với kích thước 17 theo phân phối chuẩn\n",
        "sample_7 = np.random.choice(['Viet Nam', 'Britain', 'France', 'Russia', 'Singapore'], 17)\n",
        "print(sample_7)"
      ],
      "execution_count": null,
      "outputs": []
    },
    {
      "cell_type": "markdown",
      "metadata": {
        "id": "QvnGpYVfVcTq"
      },
      "source": [
        "4. Sinh mẫu ngẫu nhiên ở câu 3 nhưng không theo phân phối chuẩn mà theo 1 vector đặc tả giá trị xác suất do bạn chọn"
      ]
    },
    {
      "cell_type": "code",
      "metadata": {
        "id": "RRHWhb_OVcTr",
        "outputId": "5ee88ab5-cabc-43ba-f6ad-640ab1aedd6c",
        "colab": {
          "base_uri": "https://localhost:8080/"
        }
      },
      "source": [
        "sample_8 = np.random.choice( ['Viet Nam', 'Britain', 'France', 'Russia', 'Singapore'], 17, p = [0.2, 0.3, 0.2, 0.2,0.1])\n",
        "print(sample_8)\n",
        "#Sinh ngẫu nhiên chuỗi các thành phố ở trên nhưng không theo phân phối chuẩn mà theo đặc tả xác suất sau [0.2, 0.6, 0.4, 0.2]"
      ],
      "execution_count": 17,
      "outputs": [
        {
          "output_type": "stream",
          "text": [
            "['Viet Nam' 'France' 'Singapore' 'Russia' 'Viet Nam' 'Britain' 'Viet Nam'\n",
            " 'Russia' 'Viet Nam' 'Viet Nam' 'France' 'Britain' 'Singapore' 'Russia'\n",
            " 'Singapore' 'Russia' 'Russia']\n"
          ],
          "name": "stdout"
        }
      ]
    },
    {
      "cell_type": "markdown",
      "metadata": {
        "id": "BLSz_EaqVcTr"
      },
      "source": [
        "Sử dụng thư việc scipy.stats để sinh mẫu ngẫu nhiên\n",
        "\n",
        "1. Sinh mẫu ngẫu nhiên theo phân phối chuẩn với mean = 12.7, std = 2.6 và size = 30. In kết quả ra màn hình"
      ]
    },
    {
      "cell_type": "code",
      "metadata": {
        "id": "jaQxq3a3VcTr",
        "outputId": "6c5ff9d7-1e2f-469e-9669-2187f2df9c57",
        "colab": {
          "base_uri": "https://localhost:8080/"
        }
      },
      "source": [
        "from scipy import stats\n",
        "\n",
        "#Sinh ngẫu nhiên mẫu theo phân phối chuẩn với mean = 12.7 std = 2.6 và size = 30\n",
        "sample_9 = stats.norm.rvs(loc = 12.7, scale = 2.6, size = 30)\n",
        "print(sample_9[:10])"
      ],
      "execution_count": 21,
      "outputs": [
        {
          "output_type": "stream",
          "text": [
            "[ 8.43870802 14.17071177 11.92533158 13.08474055 12.23374365 15.42987738\n",
            " 15.55854786 10.39323396 11.79901733 12.40985903]\n"
          ],
          "name": "stdout"
        }
      ]
    },
    {
      "cell_type": "markdown",
      "metadata": {
        "id": "kIhounpGVcTr"
      },
      "source": [
        "2. Hãy sinh một mẫu ngẫu nhiên theo phân phối Poisson"
      ]
    },
    {
      "cell_type": "code",
      "metadata": {
        "id": "CLQfYha8VcTr",
        "outputId": "e58a1661-489e-4d7f-eef3-ae76314786dc",
        "colab": {
          "base_uri": "https://localhost:8080/"
        }
      },
      "source": [
        "#Sinh ngẫu nhiên dữ liệu theo phân phối Poisson\n",
        "sample_10 = stats.poisson.rvs(loc=12.7,\n",
        "                              mu=2.6,\n",
        "                              size=30)\n",
        "print(sample_10[:10])"
      ],
      "execution_count": 22,
      "outputs": [
        {
          "output_type": "stream",
          "text": [
            "[15 13 13 17 14 18 15 13 14 16]\n"
          ],
          "name": "stdout"
        }
      ]
    },
    {
      "cell_type": "code",
      "metadata": {
        "id": "s4jziyPnVcTs"
      },
      "source": [
        ""
      ],
      "execution_count": null,
      "outputs": []
    }
  ]
}