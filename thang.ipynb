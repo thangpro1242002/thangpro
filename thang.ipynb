{
  "nbformat": 4,
  "nbformat_minor": 0,
  "metadata": {
    "colab": {
      "name": "thang",
      "provenance": [],
      "authorship_tag": "ABX9TyPvIG7ZBN3EbppeCHYm9yZu",
      "include_colab_link": true
    },
    "kernelspec": {
      "name": "python3",
      "display_name": "Python 3"
    }
  },
  "cells": [
    {
      "cell_type": "markdown",
      "metadata": {
        "id": "view-in-github",
        "colab_type": "text"
      },
      "source": [
        "<a href=\"https://colab.research.google.com/github/thangpro1242002/thangpro/blob/main/thang.ipynb\" target=\"_parent\"><img src=\"https://colab.research.google.com/assets/colab-badge.svg\" alt=\"Open In Colab\"/></a>"
      ]
    },
    {
      "cell_type": "markdown",
      "metadata": {
        "id": "F2KcOdCRcbwG"
      },
      "source": [
        "**Đây là chương trình đầu tiên**"
      ]
    },
    {
      "cell_type": "code",
      "metadata": {
        "id": "uypeJBzPbI80",
        "outputId": "3d0d366d-87c3-4621-eebf-52d5e4aca347",
        "colab": {
          "base_uri": "https://localhost:8080/"
        }
      },
      "source": [
        "print(\"Hello Github & Colab\")"
      ],
      "execution_count": 1,
      "outputs": [
        {
          "output_type": "stream",
          "text": [
            "Hello Github & Colab\n"
          ],
          "name": "stdout"
        }
      ]
    }
  ]
}